{
 "cells": [
  {
   "cell_type": "code",
   "execution_count": 11,
   "metadata": {
    "ExecuteTime": {
     "end_time": "2023-04-12T13:23:13.970971Z",
     "start_time": "2023-04-12T13:23:13.676854Z"
    }
   },
   "outputs": [],
   "source": [
    "import random\n",
    "import uuid\n",
    "\n",
    "import pandas as pd\n",
    "\n",
    "from framelink.core import FramelinkPipeline"
   ]
  },
  {
   "cell_type": "code",
   "execution_count": 12,
   "metadata": {
    "ExecuteTime": {
     "end_time": "2023-04-12T13:23:13.973798Z",
     "start_time": "2023-04-12T13:23:13.972635Z"
    }
   },
   "outputs": [],
   "source": [
    "# random.seed(123)\n",
    "pipeline = FramelinkPipeline()\n"
   ]
  },
  {
   "cell_type": "code",
   "execution_count": 13,
   "metadata": {
    "ExecuteTime": {
     "end_time": "2023-04-12T13:23:13.982315Z",
     "start_time": "2023-04-12T13:23:13.976967Z"
    }
   },
   "outputs": [],
   "source": [
    "@pipeline.model()\n",
    "def src_model_1(_: FramelinkPipeline) -> pd.DataFrame:\n",
    "    \"\"\"\n",
    "    Produce a random dataframe of values for examples, ids 0 -> 99\n",
    "    \"\"\"\n",
    "    n = 100\n",
    "    data = {\n",
    "        \"id_col\": list(range(n)),\n",
    "        \"colour_col\": [random.choice([\"red\", \"green\", \"blue\"]) for _ in range(n)],\n",
    "        \"uuid_col\": [str(uuid.uuid4()) for _ in range(n)],\n",
    "        \"int_col\": [random.randint(0, 100) for _ in range(n)],\n",
    "    }\n",
    "    return pd.DataFrame(data)\n",
    "\n",
    "\n",
    "@pipeline.model()\n",
    "def src_model_2(_: FramelinkPipeline) -> pd.DataFrame:\n",
    "    \"\"\"\n",
    "    Produce a random dataframe of values for examples, ids 100 -> 199\n",
    "    \"\"\"\n",
    "    n = 100\n",
    "    data = {\n",
    "        \"id_col\": list(x + 100 for x in range(n)),\n",
    "        \"colour_col\": [random.choice([\"yellow\", \"grey\", \"blue\"]) for _ in range(n)],\n",
    "        \"uuid_col\": [str(uuid.uuid4()) for _ in range(n)],\n",
    "        \"int_col\": [random.randint(-100, 100) for _ in range(n)],\n",
    "    }\n",
    "    return pd.DataFrame(data)"
   ]
  },
  {
   "cell_type": "code",
   "execution_count": 14,
   "metadata": {
    "ExecuteTime": {
     "end_time": "2023-04-12T13:23:13.990213Z",
     "start_time": "2023-04-12T13:23:13.983549Z"
    }
   },
   "outputs": [],
   "source": [
    "@pipeline.model()\n",
    "def concat_src_frame(ctx: FramelinkPipeline) -> pd.DataFrame:\n",
    "    f1 = ctx.ref(src_model_1)\n",
    "    f2 = ctx.ref(src_model_2)\n",
    "    return pd.concat((f1, f2), ignore_index=True)"
   ]
  },
  {
   "cell_type": "code",
   "execution_count": 15,
   "metadata": {
    "ExecuteTime": {
     "end_time": "2023-04-12T13:23:13.998804Z",
     "start_time": "2023-04-12T13:23:13.992286Z"
    }
   },
   "outputs": [],
   "source": [
    "@pipeline.model()\n",
    "def only_blue_records_by_int_col(ctx: FramelinkPipeline) -> pd.DataFrame:\n",
    "    res = ctx.ref(concat_src_frame)\n",
    "    src_blue = res.loc[res[\"colour_col\"] == \"blue\", :]\n",
    "    src_blue = src_blue.sort_values(by=[\"int_col\"])\n",
    "    return src_blue"
   ]
  },
  {
   "cell_type": "code",
   "execution_count": 16,
   "metadata": {
    "ExecuteTime": {
     "end_time": "2023-04-12T13:23:14.011953Z",
     "start_time": "2023-04-12T13:23:13.999971Z"
    }
   },
   "outputs": [],
   "source": [
    "@pipeline.model()\n",
    "def blue_head(ctx: FramelinkPipeline) -> pd.DataFrame:\n",
    "    frame = ctx.ref(only_blue_records_by_int_col)\n",
    "    return frame.head()\n",
    "\n",
    "\n",
    "@pipeline.model()\n",
    "def blue_tail(ctx: FramelinkPipeline) -> pd.DataFrame:\n",
    "    frame = ctx.ref(only_blue_records_by_int_col)\n",
    "    return frame.tail()"
   ]
  },
  {
   "cell_type": "code",
   "execution_count": 17,
   "metadata": {
    "ExecuteTime": {
     "end_time": "2023-04-12T13:23:14.024429Z",
     "start_time": "2023-04-12T13:23:14.012508Z"
    }
   },
   "outputs": [
    {
     "data": {
      "text/html": [
       "<div>\n",
       "<style scoped>\n",
       "    .dataframe tbody tr th:only-of-type {\n",
       "        vertical-align: middle;\n",
       "    }\n",
       "\n",
       "    .dataframe tbody tr th {\n",
       "        vertical-align: top;\n",
       "    }\n",
       "\n",
       "    .dataframe thead th {\n",
       "        text-align: right;\n",
       "    }\n",
       "</style>\n",
       "<table border=\"1\" class=\"dataframe\">\n",
       "  <thead>\n",
       "    <tr style=\"text-align: right;\">\n",
       "      <th></th>\n",
       "      <th>id_col</th>\n",
       "      <th>colour_col</th>\n",
       "      <th>uuid_col</th>\n",
       "      <th>int_col</th>\n",
       "    </tr>\n",
       "  </thead>\n",
       "  <tbody>\n",
       "    <tr>\n",
       "      <th>102</th>\n",
       "      <td>102</td>\n",
       "      <td>blue</td>\n",
       "      <td>a1f9530b-5a44-4a08-a53b-7c3348747bff</td>\n",
       "      <td>-99</td>\n",
       "    </tr>\n",
       "    <tr>\n",
       "      <th>164</th>\n",
       "      <td>164</td>\n",
       "      <td>blue</td>\n",
       "      <td>83b1fd87-a2ce-41a1-b855-d7d9dffb1d35</td>\n",
       "      <td>-98</td>\n",
       "    </tr>\n",
       "    <tr>\n",
       "      <th>103</th>\n",
       "      <td>103</td>\n",
       "      <td>blue</td>\n",
       "      <td>93666c43-5bf8-4f00-a5ea-7c062be0061e</td>\n",
       "      <td>-96</td>\n",
       "    </tr>\n",
       "    <tr>\n",
       "      <th>132</th>\n",
       "      <td>132</td>\n",
       "      <td>blue</td>\n",
       "      <td>4f6b9f7d-e157-4bd0-8a8c-8e9747f999b2</td>\n",
       "      <td>-93</td>\n",
       "    </tr>\n",
       "    <tr>\n",
       "      <th>104</th>\n",
       "      <td>104</td>\n",
       "      <td>blue</td>\n",
       "      <td>c5d4b3bb-1a00-4ccb-b278-6bf048717569</td>\n",
       "      <td>-84</td>\n",
       "    </tr>\n",
       "    <tr>\n",
       "      <th>...</th>\n",
       "      <td>...</td>\n",
       "      <td>...</td>\n",
       "      <td>...</td>\n",
       "      <td>...</td>\n",
       "    </tr>\n",
       "    <tr>\n",
       "      <th>71</th>\n",
       "      <td>71</td>\n",
       "      <td>blue</td>\n",
       "      <td>2d09957c-eacf-489c-b8c8-2479db336085</td>\n",
       "      <td>91</td>\n",
       "    </tr>\n",
       "    <tr>\n",
       "      <th>41</th>\n",
       "      <td>41</td>\n",
       "      <td>blue</td>\n",
       "      <td>0fb8f9ef-7f0e-4cc6-ae0d-f19b436c7d53</td>\n",
       "      <td>94</td>\n",
       "    </tr>\n",
       "    <tr>\n",
       "      <th>117</th>\n",
       "      <td>117</td>\n",
       "      <td>blue</td>\n",
       "      <td>010b3adc-cde1-4fbf-a7dc-3cdce171b27f</td>\n",
       "      <td>96</td>\n",
       "    </tr>\n",
       "    <tr>\n",
       "      <th>72</th>\n",
       "      <td>72</td>\n",
       "      <td>blue</td>\n",
       "      <td>d8650819-936c-45ae-916d-d500ff98da05</td>\n",
       "      <td>96</td>\n",
       "    </tr>\n",
       "    <tr>\n",
       "      <th>33</th>\n",
       "      <td>33</td>\n",
       "      <td>blue</td>\n",
       "      <td>1f585bc6-3d5e-4c21-8e0e-a192ef43ff33</td>\n",
       "      <td>99</td>\n",
       "    </tr>\n",
       "  </tbody>\n",
       "</table>\n",
       "<p>69 rows × 4 columns</p>\n",
       "</div>"
      ],
      "text/plain": [
       "     id_col colour_col                              uuid_col  int_col\n",
       "102     102       blue  a1f9530b-5a44-4a08-a53b-7c3348747bff      -99\n",
       "164     164       blue  83b1fd87-a2ce-41a1-b855-d7d9dffb1d35      -98\n",
       "103     103       blue  93666c43-5bf8-4f00-a5ea-7c062be0061e      -96\n",
       "132     132       blue  4f6b9f7d-e157-4bd0-8a8c-8e9747f999b2      -93\n",
       "104     104       blue  c5d4b3bb-1a00-4ccb-b278-6bf048717569      -84\n",
       "..      ...        ...                                   ...      ...\n",
       "71       71       blue  2d09957c-eacf-489c-b8c8-2479db336085       91\n",
       "41       41       blue  0fb8f9ef-7f0e-4cc6-ae0d-f19b436c7d53       94\n",
       "117     117       blue  010b3adc-cde1-4fbf-a7dc-3cdce171b27f       96\n",
       "72       72       blue  d8650819-936c-45ae-916d-d500ff98da05       96\n",
       "33       33       blue  1f585bc6-3d5e-4c21-8e0e-a192ef43ff33       99\n",
       "\n",
       "[69 rows x 4 columns]"
      ]
     },
     "execution_count": 17,
     "metadata": {},
     "output_type": "execute_result"
    }
   ],
   "source": [
    "pipeline.build(only_blue_records_by_int_col)"
   ]
  },
  {
   "cell_type": "code",
   "execution_count": 18,
   "metadata": {
    "ExecuteTime": {
     "end_time": "2023-04-12T13:23:14.029377Z",
     "start_time": "2023-04-12T13:23:14.024486Z"
    }
   },
   "outputs": [
    {
     "data": {
      "text/html": [
       "<div>\n",
       "<style scoped>\n",
       "    .dataframe tbody tr th:only-of-type {\n",
       "        vertical-align: middle;\n",
       "    }\n",
       "\n",
       "    .dataframe tbody tr th {\n",
       "        vertical-align: top;\n",
       "    }\n",
       "\n",
       "    .dataframe thead th {\n",
       "        text-align: right;\n",
       "    }\n",
       "</style>\n",
       "<table border=\"1\" class=\"dataframe\">\n",
       "  <thead>\n",
       "    <tr style=\"text-align: right;\">\n",
       "      <th></th>\n",
       "      <th>id_col</th>\n",
       "      <th>colour_col</th>\n",
       "      <th>uuid_col</th>\n",
       "      <th>int_col</th>\n",
       "    </tr>\n",
       "  </thead>\n",
       "  <tbody>\n",
       "    <tr>\n",
       "      <th>102</th>\n",
       "      <td>102</td>\n",
       "      <td>blue</td>\n",
       "      <td>a1f9530b-5a44-4a08-a53b-7c3348747bff</td>\n",
       "      <td>-99</td>\n",
       "    </tr>\n",
       "    <tr>\n",
       "      <th>164</th>\n",
       "      <td>164</td>\n",
       "      <td>blue</td>\n",
       "      <td>83b1fd87-a2ce-41a1-b855-d7d9dffb1d35</td>\n",
       "      <td>-98</td>\n",
       "    </tr>\n",
       "    <tr>\n",
       "      <th>103</th>\n",
       "      <td>103</td>\n",
       "      <td>blue</td>\n",
       "      <td>93666c43-5bf8-4f00-a5ea-7c062be0061e</td>\n",
       "      <td>-96</td>\n",
       "    </tr>\n",
       "    <tr>\n",
       "      <th>132</th>\n",
       "      <td>132</td>\n",
       "      <td>blue</td>\n",
       "      <td>4f6b9f7d-e157-4bd0-8a8c-8e9747f999b2</td>\n",
       "      <td>-93</td>\n",
       "    </tr>\n",
       "    <tr>\n",
       "      <th>104</th>\n",
       "      <td>104</td>\n",
       "      <td>blue</td>\n",
       "      <td>c5d4b3bb-1a00-4ccb-b278-6bf048717569</td>\n",
       "      <td>-84</td>\n",
       "    </tr>\n",
       "  </tbody>\n",
       "</table>\n",
       "</div>"
      ],
      "text/plain": [
       "     id_col colour_col                              uuid_col  int_col\n",
       "102     102       blue  a1f9530b-5a44-4a08-a53b-7c3348747bff      -99\n",
       "164     164       blue  83b1fd87-a2ce-41a1-b855-d7d9dffb1d35      -98\n",
       "103     103       blue  93666c43-5bf8-4f00-a5ea-7c062be0061e      -96\n",
       "132     132       blue  4f6b9f7d-e157-4bd0-8a8c-8e9747f999b2      -93\n",
       "104     104       blue  c5d4b3bb-1a00-4ccb-b278-6bf048717569      -84"
      ]
     },
     "execution_count": 18,
     "metadata": {},
     "output_type": "execute_result"
    }
   ],
   "source": [
    "pipeline.build(blue_head)"
   ]
  },
  {
   "cell_type": "code",
   "execution_count": 19,
   "metadata": {
    "ExecuteTime": {
     "end_time": "2023-04-12T13:23:14.034922Z",
     "start_time": "2023-04-12T13:23:14.030214Z"
    }
   },
   "outputs": [
    {
     "data": {
      "text/html": [
       "<div>\n",
       "<style scoped>\n",
       "    .dataframe tbody tr th:only-of-type {\n",
       "        vertical-align: middle;\n",
       "    }\n",
       "\n",
       "    .dataframe tbody tr th {\n",
       "        vertical-align: top;\n",
       "    }\n",
       "\n",
       "    .dataframe thead th {\n",
       "        text-align: right;\n",
       "    }\n",
       "</style>\n",
       "<table border=\"1\" class=\"dataframe\">\n",
       "  <thead>\n",
       "    <tr style=\"text-align: right;\">\n",
       "      <th></th>\n",
       "      <th>id_col</th>\n",
       "      <th>colour_col</th>\n",
       "      <th>uuid_col</th>\n",
       "      <th>int_col</th>\n",
       "    </tr>\n",
       "  </thead>\n",
       "  <tbody>\n",
       "    <tr>\n",
       "      <th>71</th>\n",
       "      <td>71</td>\n",
       "      <td>blue</td>\n",
       "      <td>2d09957c-eacf-489c-b8c8-2479db336085</td>\n",
       "      <td>91</td>\n",
       "    </tr>\n",
       "    <tr>\n",
       "      <th>41</th>\n",
       "      <td>41</td>\n",
       "      <td>blue</td>\n",
       "      <td>0fb8f9ef-7f0e-4cc6-ae0d-f19b436c7d53</td>\n",
       "      <td>94</td>\n",
       "    </tr>\n",
       "    <tr>\n",
       "      <th>117</th>\n",
       "      <td>117</td>\n",
       "      <td>blue</td>\n",
       "      <td>010b3adc-cde1-4fbf-a7dc-3cdce171b27f</td>\n",
       "      <td>96</td>\n",
       "    </tr>\n",
       "    <tr>\n",
       "      <th>72</th>\n",
       "      <td>72</td>\n",
       "      <td>blue</td>\n",
       "      <td>d8650819-936c-45ae-916d-d500ff98da05</td>\n",
       "      <td>96</td>\n",
       "    </tr>\n",
       "    <tr>\n",
       "      <th>33</th>\n",
       "      <td>33</td>\n",
       "      <td>blue</td>\n",
       "      <td>1f585bc6-3d5e-4c21-8e0e-a192ef43ff33</td>\n",
       "      <td>99</td>\n",
       "    </tr>\n",
       "  </tbody>\n",
       "</table>\n",
       "</div>"
      ],
      "text/plain": [
       "     id_col colour_col                              uuid_col  int_col\n",
       "71       71       blue  2d09957c-eacf-489c-b8c8-2479db336085       91\n",
       "41       41       blue  0fb8f9ef-7f0e-4cc6-ae0d-f19b436c7d53       94\n",
       "117     117       blue  010b3adc-cde1-4fbf-a7dc-3cdce171b27f       96\n",
       "72       72       blue  d8650819-936c-45ae-916d-d500ff98da05       96\n",
       "33       33       blue  1f585bc6-3d5e-4c21-8e0e-a192ef43ff33       99"
      ]
     },
     "execution_count": 19,
     "metadata": {},
     "output_type": "execute_result"
    }
   ],
   "source": [
    "pipeline.build(blue_tail)"
   ]
  },
  {
   "cell_type": "code",
   "execution_count": 20,
   "metadata": {
    "ExecuteTime": {
     "end_time": "2023-04-12T13:23:22.314419Z",
     "start_time": "2023-04-12T13:23:21.720634Z"
    }
   },
   "outputs": [
    {
     "data": {
      "image/png": "[encoded data removed]",
      "text/plain": [
       "<Figure size 640x480 with 1 Axes>"
      ]
     },
     "metadata": {},
     "output_type": "display_data"
    }
   ],
   "source": [
    "pipeline.graph_plt()"
   ]
  },
  {
   "cell_type": "code",
   "execution_count": 16,
   "metadata": {
    "ExecuteTime": {
     "end_time": "2023-04-12T13:26:03.882846Z",
     "start_time": "2023-04-12T13:26:03.881036Z"
    }
   },
   "outputs": [
    {
     "data": {
      "text/plain": [
       "'strict digraph  {\\nsrc_model_1;\\nsrc_model_2;\\nconcat_src_frame;\\nonly_blue_records_by_int_col;\\nblue_head;\\nblue_tail;\\nsrc_model_1 -> concat_src_frame;\\nsrc_model_2 -> concat_src_frame;\\nconcat_src_frame -> only_blue_records_by_int_col;\\nonly_blue_records_by_int_col -> blue_head;\\nonly_blue_records_by_int_col -> blue_tail;\\n}\\n'"
      ]
     },
     "execution_count": 16,
     "metadata": {},
     "output_type": "execute_result"
    }
   ],
   "source": [
    "dot_str = pipeline.graph_dot().to_string()\n",
    "dot_str"
   ]
  },
  {
   "cell_type": "code",
   "execution_count": null,
   "metadata": {},
   "outputs": [],
   "source": []
  }
 ],
 "metadata": {
  "kernelspec": {
   "display_name": "Python 3 (ipykernel)",
   "language": "python",
   "name": "python3"
  },
  "language_info": {
   "codemirror_mode": {
    "name": "ipython",
    "version": 3
   },
   "file_extension": ".py",
   "mimetype": "text/x-python",
   "name": "python",
   "nbconvert_exporter": "python",
   "pygments_lexer": "ipython3",
   "version": "3.11.1"
  }
 },
 "nbformat": 4,
 "nbformat_minor": 1
}
